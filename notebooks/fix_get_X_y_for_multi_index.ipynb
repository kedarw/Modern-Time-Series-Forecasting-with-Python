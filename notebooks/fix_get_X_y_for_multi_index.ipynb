{
 "cells": [
  {
   "cell_type": "code",
   "execution_count": 1,
   "id": "842e482b",
   "metadata": {},
   "outputs": [],
   "source": [
    "import pandas as pd"
   ]
  },
  {
   "cell_type": "code",
   "execution_count": 2,
   "id": "95eba112",
   "metadata": {},
   "outputs": [],
   "source": [
    "import copy"
   ]
  },
  {
   "cell_type": "code",
   "execution_count": 3,
   "id": "2b1febb3",
   "metadata": {},
   "outputs": [],
   "source": [
    "import numpy as np"
   ]
  },
  {
   "cell_type": "code",
   "execution_count": 4,
   "id": "2cfce182",
   "metadata": {},
   "outputs": [],
   "source": [
    "df = pd.read_csv(\"/Users/kedarwaghmode/projects/personal/Modern-Time-Series-Forecasting-with-Python/train_df.csv\")"
   ]
  },
  {
   "cell_type": "code",
   "execution_count": 5,
   "id": "9eaa7a36",
   "metadata": {},
   "outputs": [
    {
     "data": {
      "text/plain": [
       "0          MAC000066\n",
       "1          MAC000066\n",
       "2          MAC000066\n",
       "3          MAC000066\n",
       "4          MAC000066\n",
       "             ...    \n",
       "2136859    MAC005529\n",
       "2136860    MAC005529\n",
       "2136861    MAC005529\n",
       "2136862    MAC005529\n",
       "2136863    MAC005529\n",
       "Name: LCLid, Length: 2136864, dtype: object"
      ]
     },
     "execution_count": 5,
     "metadata": {},
     "output_type": "execute_result"
    }
   ],
   "source": [
    "df['LCLid']"
   ]
  },
  {
   "cell_type": "code",
   "execution_count": 6,
   "id": "99a379ab",
   "metadata": {},
   "outputs": [],
   "source": [
    "categorical = True"
   ]
  },
  {
   "cell_type": "code",
   "execution_count": 7,
   "id": "8122e40e",
   "metadata": {},
   "outputs": [],
   "source": [
    "exogenous = False"
   ]
  },
  {
   "cell_type": "code",
   "execution_count": 8,
   "id": "0fa57a47",
   "metadata": {},
   "outputs": [],
   "source": [
    "self_continuous_features = ['visibility', 'windBearing', 'temperature', 'dewPoint', 'pressure', 'apparentTemperature', 'windSpeed', 'humidity', 'energy_consumption_lag_1', 'energy_consumption_lag_2', 'energy_consumption_lag_3', 'energy_consumption_lag_4', 'energy_consumption_lag_5', 'energy_consumption_lag_46', 'energy_consumption_lag_47', 'energy_consumption_lag_48', 'energy_consumption_lag_49', 'energy_consumption_lag_50', 'energy_consumption_lag_334', 'energy_consumption_lag_335', 'energy_consumption_lag_336', 'energy_consumption_lag_337', 'energy_consumption_lag_338', 'energy_consumption_rolling_3_mean', 'energy_consumption_rolling_3_std', 'energy_consumption_rolling_6_mean', 'energy_consumption_rolling_6_std', 'energy_consumption_rolling_12_mean', 'energy_consumption_rolling_12_std', 'energy_consumption_rolling_48_mean', 'energy_consumption_rolling_48_std', 'energy_consumption_48_seasonal_rolling_3_mean', 'energy_consumption_48_seasonal_rolling_3_std', 'energy_consumption_336_seasonal_rolling_3_mean', 'energy_consumption_336_seasonal_rolling_3_std', 'energy_consumption_ewma_span_2880', 'energy_consumption_ewma_span_336', 'energy_consumption_ewma_span_48', 'timestamp_Elapsed', 'timestamp_Month_sin_1', 'timestamp_Month_sin_2', 'timestamp_Month_sin_3', 'timestamp_Month_sin_4', 'timestamp_Month_sin_5', 'timestamp_Month_cos_1', 'timestamp_Month_cos_2', 'timestamp_Month_cos_3', 'timestamp_Month_cos_4', 'timestamp_Month_cos_5', 'timestamp_Hour_sin_1', 'timestamp_Hour_sin_2', 'timestamp_Hour_sin_3', 'timestamp_Hour_sin_4', 'timestamp_Hour_sin_5', 'timestamp_Hour_cos_1', 'timestamp_Hour_cos_2', 'timestamp_Hour_cos_3', 'timestamp_Hour_cos_4', 'timestamp_Hour_cos_5', 'timestamp_Minute_sin_1', 'timestamp_Minute_sin_2', 'timestamp_Minute_sin_3', 'timestamp_Minute_sin_4', 'timestamp_Minute_sin_5', 'timestamp_Minute_cos_1', 'timestamp_Minute_cos_2', 'timestamp_Minute_cos_3', 'timestamp_Minute_cos_4', 'timestamp_Minute_cos_5']"
   ]
  },
  {
   "cell_type": "code",
   "execution_count": 9,
   "id": "76a8cc92",
   "metadata": {},
   "outputs": [],
   "source": [
    "feature_list = copy.deepcopy(self_continuous_features)"
   ]
  },
  {
   "cell_type": "code",
   "execution_count": 10,
   "id": "3d36c72a",
   "metadata": {},
   "outputs": [],
   "source": [
    "self_categorical_features = ['holidays', 'precipType', 'icon', 'summary', 'timestamp_Month', 'timestamp_Quarter', 'timestamp_WeekDay', 'timestamp_Dayofweek', 'timestamp_Dayofyear', 'timestamp_Hour', 'timestamp_Minute', 'stdorToU', 'Acorn', 'Acorn_grouped', 'LCLid']"
   ]
  },
  {
   "cell_type": "code",
   "execution_count": 11,
   "id": "d8a6533b",
   "metadata": {},
   "outputs": [],
   "source": [
    "self_boolean_features = ['timestamp_Is_quarter_end', 'timestamp_Is_quarter_start', 'timestamp_Is_year_end', 'timestamp_Is_year_start', 'timestamp_Is_month_start']"
   ]
  },
  {
   "cell_type": "code",
   "execution_count": 12,
   "id": "9f45f122",
   "metadata": {},
   "outputs": [],
   "source": [
    "self_exogenous_features = ['holidays', 'precipType', 'icon', 'summary', 'visibility', 'windBearing', 'temperature', 'dewPoint', 'pressure', 'apparentTemperature', 'windSpeed', 'humidity']"
   ]
  },
  {
   "cell_type": "code",
   "execution_count": 13,
   "id": "46ffc0ed",
   "metadata": {},
   "outputs": [
    {
     "data": {
      "text/plain": [
       "0          MAC000066\n",
       "1          MAC000066\n",
       "2          MAC000066\n",
       "3          MAC000066\n",
       "4          MAC000066\n",
       "             ...    \n",
       "2136859    MAC005529\n",
       "2136860    MAC005529\n",
       "2136861    MAC005529\n",
       "2136862    MAC005529\n",
       "2136863    MAC005529\n",
       "Name: LCLid, Length: 2136864, dtype: object"
      ]
     },
     "execution_count": 13,
     "metadata": {},
     "output_type": "execute_result"
    }
   ],
   "source": [
    "df['LCLid']"
   ]
  },
  {
   "cell_type": "code",
   "execution_count": 14,
   "id": "9810d522",
   "metadata": {},
   "outputs": [],
   "source": [
    "if categorical:\n",
    "    feature_list += self_categorical_features + self_boolean_features\n",
    "if not exogenous:\n",
    "    feature_list = list(set(feature_list) - set(self_exogenous_features))"
   ]
  },
  {
   "cell_type": "code",
   "execution_count": 15,
   "id": "3eca16ea",
   "metadata": {},
   "outputs": [],
   "source": [
    "feature_list = list(set(feature_list))"
   ]
  },
  {
   "cell_type": "code",
   "execution_count": 16,
   "id": "b42b2f6a",
   "metadata": {},
   "outputs": [],
   "source": [
    "self_index_cols = ['LCLid', 'timestamp']"
   ]
  },
  {
   "cell_type": "code",
   "execution_count": 17,
   "id": "6dcb7ec9",
   "metadata": {},
   "outputs": [],
   "source": [
    "self_feature_list = ['holidays', 'precipType', 'icon', 'summary', 'timestamp_Month', 'timestamp_Quarter', 'timestamp_WeekDay', 'timestamp_Dayofweek', 'timestamp_Dayofyear', 'timestamp_Hour', 'timestamp_Minute', 'stdorToU', 'Acorn', 'Acorn_grouped', 'LCLid', 'visibility', 'windBearing', 'temperature', 'dewPoint', 'pressure', 'apparentTemperature', 'windSpeed', 'humidity', 'energy_consumption_lag_1', 'energy_consumption_lag_2', 'energy_consumption_lag_3', 'energy_consumption_lag_4', 'energy_consumption_lag_5', 'energy_consumption_lag_46', 'energy_consumption_lag_47', 'energy_consumption_lag_48', 'energy_consumption_lag_49', 'energy_consumption_lag_50', 'energy_consumption_lag_334', 'energy_consumption_lag_335', 'energy_consumption_lag_336', 'energy_consumption_lag_337', 'energy_consumption_lag_338', 'energy_consumption_rolling_3_mean', 'energy_consumption_rolling_3_std', 'energy_consumption_rolling_6_mean', 'energy_consumption_rolling_6_std', 'energy_consumption_rolling_12_mean', 'energy_consumption_rolling_12_std', 'energy_consumption_rolling_48_mean', 'energy_consumption_rolling_48_std', 'energy_consumption_48_seasonal_rolling_3_mean', 'energy_consumption_48_seasonal_rolling_3_std', 'energy_consumption_336_seasonal_rolling_3_mean', 'energy_consumption_336_seasonal_rolling_3_std', 'energy_consumption_ewma_span_2880', 'energy_consumption_ewma_span_336', 'energy_consumption_ewma_span_48', 'timestamp_Elapsed', 'timestamp_Month_sin_1', 'timestamp_Month_sin_2', 'timestamp_Month_sin_3', 'timestamp_Month_sin_4', 'timestamp_Month_sin_5', 'timestamp_Month_cos_1', 'timestamp_Month_cos_2', 'timestamp_Month_cos_3', 'timestamp_Month_cos_4', 'timestamp_Month_cos_5', 'timestamp_Hour_sin_1', 'timestamp_Hour_sin_2', 'timestamp_Hour_sin_3', 'timestamp_Hour_sin_4', 'timestamp_Hour_sin_5', 'timestamp_Hour_cos_1', 'timestamp_Hour_cos_2', 'timestamp_Hour_cos_3', 'timestamp_Hour_cos_4', 'timestamp_Hour_cos_5', 'timestamp_Minute_sin_1', 'timestamp_Minute_sin_2', 'timestamp_Minute_sin_3', 'timestamp_Minute_sin_4', 'timestamp_Minute_sin_5', 'timestamp_Minute_cos_1', 'timestamp_Minute_cos_2', 'timestamp_Minute_cos_3', 'timestamp_Minute_cos_4', 'timestamp_Minute_cos_5', 'timestamp_Is_quarter_end', 'timestamp_Is_quarter_start', 'timestamp_Is_year_end', 'timestamp_Is_year_start', 'timestamp_Is_month_start']"
   ]
  },
  {
   "cell_type": "code",
   "execution_count": 18,
   "id": "a2b1e60f",
   "metadata": {},
   "outputs": [],
   "source": [
    "delete_index_cols = list(set(self_index_cols) - set(self_feature_list))"
   ]
  },
  {
   "cell_type": "code",
   "execution_count": 19,
   "id": "60e688ba",
   "metadata": {},
   "outputs": [
    {
     "data": {
      "text/plain": [
       "0          MAC000066\n",
       "1          MAC000066\n",
       "2          MAC000066\n",
       "3          MAC000066\n",
       "4          MAC000066\n",
       "             ...    \n",
       "2136859    MAC005529\n",
       "2136860    MAC005529\n",
       "2136861    MAC005529\n",
       "2136862    MAC005529\n",
       "2136863    MAC005529\n",
       "Name: LCLid, Length: 2136864, dtype: object"
      ]
     },
     "execution_count": 19,
     "metadata": {},
     "output_type": "execute_result"
    }
   ],
   "source": [
    "df['LCLid']"
   ]
  },
  {
   "cell_type": "code",
   "execution_count": 20,
   "id": "88afd8b2",
   "metadata": {},
   "outputs": [
    {
     "data": {
      "text/plain": [
       "(2136864, 94)"
      ]
     },
     "execution_count": 20,
     "metadata": {},
     "output_type": "execute_result"
    }
   ],
   "source": [
    "df.shape"
   ]
  },
  {
   "cell_type": "code",
   "execution_count": 21,
   "id": "8aeaf0cd",
   "metadata": {},
   "outputs": [],
   "source": [
    "#df.loc[:, list(feature_list + self_index_cols)].set_index(self_index_cols, drop=False).drop(columns=delete_index_cols)"
   ]
  },
  {
   "cell_type": "code",
   "execution_count": 22,
   "id": "9389ed65",
   "metadata": {},
   "outputs": [
    {
     "data": {
      "text/plain": [
       "(2136864, 79)"
      ]
     },
     "execution_count": 22,
     "metadata": {},
     "output_type": "execute_result"
    }
   ],
   "source": [
    "df = df[list(feature_list + self_index_cols)]\n",
    "df.shape"
   ]
  },
  {
   "cell_type": "code",
   "execution_count": 23,
   "id": "ab44ed54",
   "metadata": {},
   "outputs": [
    {
     "data": {
      "text/html": [
       "<div>\n",
       "<style scoped>\n",
       "    .dataframe tbody tr th:only-of-type {\n",
       "        vertical-align: middle;\n",
       "    }\n",
       "\n",
       "    .dataframe tbody tr th {\n",
       "        vertical-align: top;\n",
       "    }\n",
       "\n",
       "    .dataframe thead th {\n",
       "        text-align: right;\n",
       "    }\n",
       "</style>\n",
       "<table border=\"1\" class=\"dataframe\">\n",
       "  <thead>\n",
       "    <tr style=\"text-align: right;\">\n",
       "      <th></th>\n",
       "      <th>LCLid</th>\n",
       "      <th>LCLid</th>\n",
       "    </tr>\n",
       "  </thead>\n",
       "  <tbody>\n",
       "    <tr>\n",
       "      <th>0</th>\n",
       "      <td>MAC000066</td>\n",
       "      <td>MAC000066</td>\n",
       "    </tr>\n",
       "    <tr>\n",
       "      <th>1</th>\n",
       "      <td>MAC000066</td>\n",
       "      <td>MAC000066</td>\n",
       "    </tr>\n",
       "    <tr>\n",
       "      <th>2</th>\n",
       "      <td>MAC000066</td>\n",
       "      <td>MAC000066</td>\n",
       "    </tr>\n",
       "    <tr>\n",
       "      <th>3</th>\n",
       "      <td>MAC000066</td>\n",
       "      <td>MAC000066</td>\n",
       "    </tr>\n",
       "    <tr>\n",
       "      <th>4</th>\n",
       "      <td>MAC000066</td>\n",
       "      <td>MAC000066</td>\n",
       "    </tr>\n",
       "    <tr>\n",
       "      <th>...</th>\n",
       "      <td>...</td>\n",
       "      <td>...</td>\n",
       "    </tr>\n",
       "    <tr>\n",
       "      <th>2136859</th>\n",
       "      <td>MAC005529</td>\n",
       "      <td>MAC005529</td>\n",
       "    </tr>\n",
       "    <tr>\n",
       "      <th>2136860</th>\n",
       "      <td>MAC005529</td>\n",
       "      <td>MAC005529</td>\n",
       "    </tr>\n",
       "    <tr>\n",
       "      <th>2136861</th>\n",
       "      <td>MAC005529</td>\n",
       "      <td>MAC005529</td>\n",
       "    </tr>\n",
       "    <tr>\n",
       "      <th>2136862</th>\n",
       "      <td>MAC005529</td>\n",
       "      <td>MAC005529</td>\n",
       "    </tr>\n",
       "    <tr>\n",
       "      <th>2136863</th>\n",
       "      <td>MAC005529</td>\n",
       "      <td>MAC005529</td>\n",
       "    </tr>\n",
       "  </tbody>\n",
       "</table>\n",
       "<p>2136864 rows × 2 columns</p>\n",
       "</div>"
      ],
      "text/plain": [
       "             LCLid      LCLid\n",
       "0        MAC000066  MAC000066\n",
       "1        MAC000066  MAC000066\n",
       "2        MAC000066  MAC000066\n",
       "3        MAC000066  MAC000066\n",
       "4        MAC000066  MAC000066\n",
       "...            ...        ...\n",
       "2136859  MAC005529  MAC005529\n",
       "2136860  MAC005529  MAC005529\n",
       "2136861  MAC005529  MAC005529\n",
       "2136862  MAC005529  MAC005529\n",
       "2136863  MAC005529  MAC005529\n",
       "\n",
       "[2136864 rows x 2 columns]"
      ]
     },
     "execution_count": 23,
     "metadata": {},
     "output_type": "execute_result"
    }
   ],
   "source": [
    "df['LCLid']"
   ]
  },
  {
   "cell_type": "code",
   "execution_count": null,
   "id": "5dad1a8c",
   "metadata": {},
   "outputs": [],
   "source": [
    "df.dtypes"
   ]
  },
  {
   "cell_type": "code",
   "execution_count": null,
   "id": "e4da85ca",
   "metadata": {},
   "outputs": [],
   "source": [
    "df.columns"
   ]
  },
  {
   "cell_type": "code",
   "execution_count": null,
   "id": "974f8297",
   "metadata": {},
   "outputs": [],
   "source": [
    "df.index"
   ]
  },
  {
   "cell_type": "code",
   "execution_count": null,
   "id": "08b6e194",
   "metadata": {},
   "outputs": [],
   "source": [
    "df['LCLid']"
   ]
  },
  {
   "cell_type": "code",
   "execution_count": null,
   "id": "b56ad3f9",
   "metadata": {},
   "outputs": [],
   "source": []
  },
  {
   "cell_type": "code",
   "execution_count": null,
   "id": "92ee42ab",
   "metadata": {},
   "outputs": [],
   "source": []
  },
  {
   "cell_type": "code",
   "execution_count": null,
   "id": "66032244",
   "metadata": {},
   "outputs": [],
   "source": []
  },
  {
   "cell_type": "code",
   "execution_count": null,
   "id": "fc626994",
   "metadata": {},
   "outputs": [],
   "source": [
    "df['LCLid'] = df['LCLid'].astype(object)"
   ]
  },
  {
   "cell_type": "code",
   "execution_count": null,
   "id": "21906fd5",
   "metadata": {},
   "outputs": [],
   "source": [
    "df['timestamp'] = df['timestamp'].astype(object)"
   ]
  },
  {
   "cell_type": "code",
   "execution_count": null,
   "id": "2ea86a44",
   "metadata": {},
   "outputs": [],
   "source": [
    "df.shape"
   ]
  },
  {
   "cell_type": "code",
   "execution_count": null,
   "id": "f6e9c5ac",
   "metadata": {},
   "outputs": [],
   "source": [
    "df.head(10000).to_csv(\"train_df_first10000.csv\", index=False)"
   ]
  },
  {
   "cell_type": "code",
   "execution_count": null,
   "id": "e68577ec",
   "metadata": {},
   "outputs": [],
   "source": [
    "df['LCLid']"
   ]
  },
  {
   "cell_type": "code",
   "execution_count": null,
   "id": "7ba12aa8",
   "metadata": {},
   "outputs": [],
   "source": [
    "df_split = np.array_split(df, 2100)\n",
    "#df_split"
   ]
  },
  {
   "cell_type": "code",
   "execution_count": null,
   "id": "c20d750a",
   "metadata": {},
   "outputs": [],
   "source": [
    "len(df_split)"
   ]
  },
  {
   "cell_type": "code",
   "execution_count": null,
   "id": "ec55206f",
   "metadata": {},
   "outputs": [],
   "source": [
    "length = len(df_split)\n",
    "for i in range(0, length):\n",
    "    print(\"********* Processing frame no: {}\".format(i))\n",
    "    df_split[i].set_index(['LCLid', 'timestamp'], inplace=True)"
   ]
  },
  {
   "cell_type": "code",
   "execution_count": null,
   "id": "fc8391fe",
   "metadata": {},
   "outputs": [],
   "source": [
    "df['index_str_check'] = df['timestamp'].astype(object) + '_' + df['LCLid'].astype(object)\n",
    "#df1 = df[df.duplicated(subset=['timestamp','LCLid'], keep=\"first\")]\n",
    "\n",
    "df"
   ]
  },
  {
   "cell_type": "code",
   "execution_count": null,
   "id": "4ecf3a68",
   "metadata": {},
   "outputs": [],
   "source": [
    "df.set_index(['LCLid', 'timestamp'], inplace=True)"
   ]
  },
  {
   "cell_type": "code",
   "execution_count": null,
   "id": "39655959",
   "metadata": {},
   "outputs": [],
   "source": [
    "df.shape"
   ]
  },
  {
   "cell_type": "code",
   "execution_count": null,
   "id": "c32ca54d",
   "metadata": {},
   "outputs": [],
   "source": [
    "df.drop(columns=delete_index_cols, inplace=True)"
   ]
  },
  {
   "cell_type": "code",
   "execution_count": null,
   "id": "798726a6",
   "metadata": {},
   "outputs": [],
   "source": [
    "df"
   ]
  },
  {
   "cell_type": "code",
   "execution_count": null,
   "id": "3fbbff89",
   "metadata": {},
   "outputs": [],
   "source": [
    "len(list(feature_list + self_index_cols))"
   ]
  },
  {
   "cell_type": "code",
   "execution_count": null,
   "id": "660b60f9",
   "metadata": {},
   "outputs": [],
   "source": [
    "self_index_cols = ['LCLid', 'timestamp']\n"
   ]
  },
  {
   "cell_type": "code",
   "execution_count": null,
   "id": "1946ddce",
   "metadata": {},
   "outputs": [],
   "source": [
    "df.loc[:, list(feature_list + self_index_cols)].set_index(self_index_cols, drop=False).drop(columns=delete_index_cols)"
   ]
  },
  {
   "cell_type": "code",
   "execution_count": null,
   "id": "c6d74f64",
   "metadata": {},
   "outputs": [],
   "source": [
    "df1 = df.loc[:, list(feature_list + self_index_cols)]"
   ]
  },
  {
   "cell_type": "code",
   "execution_count": null,
   "id": "a7b7765d",
   "metadata": {},
   "outputs": [],
   "source": [
    "self_index_cols"
   ]
  },
  {
   "cell_type": "code",
   "execution_count": null,
   "id": "c1a3d900",
   "metadata": {},
   "outputs": [],
   "source": [
    "df1.index"
   ]
  },
  {
   "cell_type": "code",
   "execution_count": null,
   "id": "247e2c98",
   "metadata": {},
   "outputs": [],
   "source": [
    "df1.reset_index(inplace=True)"
   ]
  },
  {
   "cell_type": "code",
   "execution_count": null,
   "id": "cb24b7b2",
   "metadata": {},
   "outputs": [],
   "source": [
    "df.set_index(self_index_cols, inplace=True)"
   ]
  },
  {
   "cell_type": "code",
   "execution_count": null,
   "id": "aaee34c4",
   "metadata": {},
   "outputs": [],
   "source": [
    "df"
   ]
  },
  {
   "cell_type": "code",
   "execution_count": null,
   "id": "881d53dc",
   "metadata": {},
   "outputs": [],
   "source": [
    "df1.co"
   ]
  },
  {
   "cell_type": "code",
   "execution_count": null,
   "id": "a93fe68a",
   "metadata": {},
   "outputs": [],
   "source": [
    "df1 = df1.set_index(self_index_cols, inplace=True)"
   ]
  },
  {
   "cell_type": "code",
   "execution_count": null,
   "id": "64cd83bf",
   "metadata": {},
   "outputs": [],
   "source": [
    "df1.drop(columns=delete_index_cols, inplace=True)"
   ]
  },
  {
   "cell_type": "code",
   "execution_count": null,
   "id": "ef0cf11e",
   "metadata": {},
   "outputs": [],
   "source": [
    "dft = pd.read_csv(\"/Users/kedarwaghmode/projects/tachyon/data/spurs_product_mappings_built_by_Kedar.csv\")\n",
    "dft"
   ]
  },
  {
   "cell_type": "code",
   "execution_count": null,
   "id": "560681d4",
   "metadata": {},
   "outputs": [],
   "source": [
    "dft.columns"
   ]
  },
  {
   "cell_type": "code",
   "execution_count": null,
   "id": "fb1e4efc",
   "metadata": {},
   "outputs": [],
   "source": [
    "dft.set_index([' Rack Product Name', ' State', ' City', ' Supplier Low/High/Average',\n",
    "       ' Brand Indicator',' Octane Level','SPOT Region',\n",
    "       'SPOT Product'], inplace=True)"
   ]
  },
  {
   "cell_type": "code",
   "execution_count": null,
   "id": "d4636a44",
   "metadata": {},
   "outputs": [],
   "source": [
    "dft"
   ]
  },
  {
   "cell_type": "code",
   "execution_count": null,
   "id": "cdef38da",
   "metadata": {},
   "outputs": [],
   "source": []
  }
 ],
 "metadata": {
  "kernelspec": {
   "display_name": "Python 3 (ipykernel)",
   "language": "python",
   "name": "python3"
  },
  "language_info": {
   "codemirror_mode": {
    "name": "ipython",
    "version": 3
   },
   "file_extension": ".py",
   "mimetype": "text/x-python",
   "name": "python",
   "nbconvert_exporter": "python",
   "pygments_lexer": "ipython3",
   "version": "3.9.0"
  }
 },
 "nbformat": 4,
 "nbformat_minor": 5
}
